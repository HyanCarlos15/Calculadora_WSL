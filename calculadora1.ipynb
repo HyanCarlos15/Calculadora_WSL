{
  "cells": [
    {
      "cell_type": "code",
      "execution_count": null,
      "metadata": {
        "id": "okcCwtvbt168"
      },
      "outputs": [],
      "source": []
    },
    {
      "cell_type": "markdown",
      "metadata": {
        "id": "wKhMoyt9t3gH"
      },
      "source": [
        "#Pratique"
      ]
    },
    {
      "cell_type": "code",
      "execution_count": null,
      "metadata": {
        "colab": {
          "base_uri": "https://localhost:8080/"
        },
        "id": "fXnvD1XRt7pG",
        "outputId": "45ed6a38-f501-4e35-dd3c-874d912b624e"
      },
      "outputs": [],
      "source": [
        "Nome = input(\"Digite seu nome\")\n",
        "\n",
        "Valor = int(input(\"Digite um numero\"))\n",
        "Valor2 = int(input(\"Digite outro numero\"))\n",
        "\n",
        "print(Nome, \"Os valores digitados foram\", Valor, \"e\", Valor2)\n",
        "\n",
        "\n"
      ]
    },
    {
      "cell_type": "code",
      "execution_count": null,
      "metadata": {
        "colab": {
          "base_uri": "https://localhost:8080/"
        },
        "id": "oqf0j8pt0-7j",
        "outputId": "833efad8-b28f-4aee-e112-1eeeaaf22c76"
      },
      "outputs": [],
      "source": [
        "#Operaçoes Numericas\n",
        "\n",
        "print(\" A soma dos valores é igua a \", Valor + Valor2)\n",
        "\n",
        "print(\"A subtração dos valores é igual a\", Valor - Valor2)\n",
        "\n",
        "print(\" O Resultado da multiplação é de \", Valor * Valor2)\n",
        "\n",
        "print(\"A divisão dos dois valores é de \", Valor / Valor2)"
      ]
    },
    {
      "cell_type": "code",
      "execution_count": null,
      "metadata": {
        "colab": {
          "base_uri": "https://localhost:8080/"
        },
        "id": "GCfmO0zw1QAK",
        "outputId": "d130e9b9-a2eb-4fca-cf2b-0ad6425c53ae"
      },
      "outputs": [],
      "source": [
        "lista1 = [Valor]\n",
        "\n",
        "for val in lista1:\n",
        "  print(i)\n",
        "  val += 2\n",
        "  print(val)"
      ]
    },
    {
      "cell_type": "code",
      "execution_count": null,
      "metadata": {
        "colab": {
          "base_uri": "https://localhost:8080/"
        },
        "id": "mW4S-lXD2DoK",
        "outputId": "37783039-d2df-4302-997a-0fce926944c0"
      },
      "outputs": [],
      "source": [
        "lista2 = [Valor2]\n",
        "\n",
        "for val in lista2:\n",
        "  print(i)\n",
        "  val += 2\n",
        "  print(val)"
      ]
    }
  ],
  "metadata": {
    "colab": {
      "provenance": []
    },
    "kernelspec": {
      "display_name": "Python 3",
      "name": "python3"
    },
    "language_info": {
      "name": "python"
    }
  },
  "nbformat": 4,
  "nbformat_minor": 0
}
